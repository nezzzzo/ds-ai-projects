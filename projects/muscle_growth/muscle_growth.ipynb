{
 "cells": [
  {
   "cell_type": "markdown",
   "metadata": {},
   "source": [
    "# **Project Objective**\n",
    "\n",
    "**The primary goal of this project is to develop a predictive model to estimate **muscle mass gained** by individuals over a training period.**\n",
    "\n",
    "### Modeling Goals\n",
    "\n",
    "- **Predictive Accuracy**: Build a robust model that accurately predicts muscle mass gained on unseen data.\n",
    "- **Feature Insights**: Identify and understand the key factors (e.g., training frequency, workout intensity, diet, sleep, etc.) that influence muscle mass gain.\n",
    "- **Data Preprocessing**: Experiment with techniques for imputing missing values and handling outliers to enhance model performance.\n",
    "\n",
    "This dataset offers a comprehensive platform for applying machine learning techniques in the health and fitness domain, aiming to provide actionable insights and improve training strategies."
   ]
  },
  {
   "cell_type": "markdown",
   "metadata": {},
   "source": [
    "# **import the libraries**"
   ]
  },
  {
   "cell_type": "code",
   "execution_count": 1,
   "metadata": {},
   "outputs": [],
   "source": [
    "import pandas as pd\n",
    "import numpy as np\n",
    "import matplotlib.pyplot as plt\n",
    "import seaborn as sns"
   ]
  },
  {
   "cell_type": "markdown",
   "metadata": {},
   "source": [
    "# **load the dataset**"
   ]
  },
  {
   "cell_type": "code",
   "execution_count": 2,
   "metadata": {},
   "outputs": [],
   "source": [
    "df = pd.read_csv(\"muscle_growth.csv\")"
   ]
  },
  {
   "cell_type": "code",
   "execution_count": 3,
   "metadata": {},
   "outputs": [
    {
     "data": {
      "text/html": [
       "<div>\n",
       "<style scoped>\n",
       "    .dataframe tbody tr th:only-of-type {\n",
       "        vertical-align: middle;\n",
       "    }\n",
       "\n",
       "    .dataframe tbody tr th {\n",
       "        vertical-align: top;\n",
       "    }\n",
       "\n",
       "    .dataframe thead th {\n",
       "        text-align: right;\n",
       "    }\n",
       "</style>\n",
       "<table border=\"1\" class=\"dataframe\">\n",
       "  <thead>\n",
       "    <tr style=\"text-align: right;\">\n",
       "      <th></th>\n",
       "      <th>id</th>\n",
       "      <th>age</th>\n",
       "      <th>gender</th>\n",
       "      <th>height</th>\n",
       "      <th>weight</th>\n",
       "      <th>gym_frequency</th>\n",
       "      <th>workout_intensity</th>\n",
       "      <th>protein_intake</th>\n",
       "      <th>sleep_hours</th>\n",
       "      <th>training_experience</th>\n",
       "      <th>initial_muscle_mass</th>\n",
       "      <th>final_muscle_mass</th>\n",
       "      <th>body_fat_percentage</th>\n",
       "      <th>supplement_use</th>\n",
       "      <th>workout_type</th>\n",
       "      <th>diet_type</th>\n",
       "      <th>hydration_level</th>\n",
       "      <th>stress_level</th>\n",
       "      <th>session_duration</th>\n",
       "      <th>recovery_rate</th>\n",
       "    </tr>\n",
       "  </thead>\n",
       "  <tbody>\n",
       "    <tr>\n",
       "      <th>0</th>\n",
       "      <td>1</td>\n",
       "      <td>56.0</td>\n",
       "      <td>M</td>\n",
       "      <td>181.2</td>\n",
       "      <td>96.0</td>\n",
       "      <td>2.0</td>\n",
       "      <td>6.0</td>\n",
       "      <td>201.0</td>\n",
       "      <td>9.0</td>\n",
       "      <td>Intermediate</td>\n",
       "      <td>45.2</td>\n",
       "      <td>47.4</td>\n",
       "      <td>22.2</td>\n",
       "      <td>Protein</td>\n",
       "      <td>Cardio</td>\n",
       "      <td>Omnivore</td>\n",
       "      <td>2.9</td>\n",
       "      <td>2.0</td>\n",
       "      <td>86.0</td>\n",
       "      <td>slow</td>\n",
       "    </tr>\n",
       "    <tr>\n",
       "      <th>1</th>\n",
       "      <td>2</td>\n",
       "      <td>46.0</td>\n",
       "      <td>F</td>\n",
       "      <td>179.0</td>\n",
       "      <td>79.6</td>\n",
       "      <td>7.0</td>\n",
       "      <td>5.0</td>\n",
       "      <td>155.0</td>\n",
       "      <td>8.0</td>\n",
       "      <td>Experienced</td>\n",
       "      <td>25.2</td>\n",
       "      <td>26.4</td>\n",
       "      <td>18.4</td>\n",
       "      <td>Protein</td>\n",
       "      <td>Mixed</td>\n",
       "      <td>Omnivore</td>\n",
       "      <td>4.0</td>\n",
       "      <td>5.0</td>\n",
       "      <td>43.0</td>\n",
       "      <td>fast</td>\n",
       "    </tr>\n",
       "    <tr>\n",
       "      <th>2</th>\n",
       "      <td>3</td>\n",
       "      <td>32.0</td>\n",
       "      <td>F</td>\n",
       "      <td>177.1</td>\n",
       "      <td>67.4</td>\n",
       "      <td>2.0</td>\n",
       "      <td>1.0</td>\n",
       "      <td>148.0</td>\n",
       "      <td>8.0</td>\n",
       "      <td>Intermediate</td>\n",
       "      <td>27.8</td>\n",
       "      <td>29.7</td>\n",
       "      <td>17.3</td>\n",
       "      <td>Pre-workout</td>\n",
       "      <td>Mixed</td>\n",
       "      <td>Omnivore</td>\n",
       "      <td>2.8</td>\n",
       "      <td>5.0</td>\n",
       "      <td>78.0</td>\n",
       "      <td>medium</td>\n",
       "    </tr>\n",
       "    <tr>\n",
       "      <th>3</th>\n",
       "      <td>4</td>\n",
       "      <td>60.0</td>\n",
       "      <td>M</td>\n",
       "      <td>184.4</td>\n",
       "      <td>91.8</td>\n",
       "      <td>2.0</td>\n",
       "      <td>6.0</td>\n",
       "      <td>195.0</td>\n",
       "      <td>7.0</td>\n",
       "      <td>Experienced</td>\n",
       "      <td>37.4</td>\n",
       "      <td>38.3</td>\n",
       "      <td>21.6</td>\n",
       "      <td>NoUse</td>\n",
       "      <td>Cardio</td>\n",
       "      <td>Omnivore</td>\n",
       "      <td>2.0</td>\n",
       "      <td>3.0</td>\n",
       "      <td>59.0</td>\n",
       "      <td>medium</td>\n",
       "    </tr>\n",
       "    <tr>\n",
       "      <th>4</th>\n",
       "      <td>5</td>\n",
       "      <td>25.0</td>\n",
       "      <td>F</td>\n",
       "      <td>151.2</td>\n",
       "      <td>50.3</td>\n",
       "      <td>5.0</td>\n",
       "      <td>2.0</td>\n",
       "      <td>107.0</td>\n",
       "      <td>7.0</td>\n",
       "      <td>Beginner</td>\n",
       "      <td>19.2</td>\n",
       "      <td>23.1</td>\n",
       "      <td>22.6</td>\n",
       "      <td>NoUse</td>\n",
       "      <td>Mixed</td>\n",
       "      <td>Vegetarian</td>\n",
       "      <td>3.2</td>\n",
       "      <td>9.0</td>\n",
       "      <td>73.0</td>\n",
       "      <td>fast</td>\n",
       "    </tr>\n",
       "  </tbody>\n",
       "</table>\n",
       "</div>"
      ],
      "text/plain": [
       "   id   age gender  height  weight  gym_frequency  workout_intensity  \\\n",
       "0   1  56.0      M   181.2    96.0            2.0                6.0   \n",
       "1   2  46.0      F   179.0    79.6            7.0                5.0   \n",
       "2   3  32.0      F   177.1    67.4            2.0                1.0   \n",
       "3   4  60.0      M   184.4    91.8            2.0                6.0   \n",
       "4   5  25.0      F   151.2    50.3            5.0                2.0   \n",
       "\n",
       "   protein_intake  sleep_hours training_experience  initial_muscle_mass  \\\n",
       "0           201.0          9.0        Intermediate                 45.2   \n",
       "1           155.0          8.0         Experienced                 25.2   \n",
       "2           148.0          8.0        Intermediate                 27.8   \n",
       "3           195.0          7.0         Experienced                 37.4   \n",
       "4           107.0          7.0            Beginner                 19.2   \n",
       "\n",
       "   final_muscle_mass  body_fat_percentage supplement_use workout_type  \\\n",
       "0               47.4                 22.2        Protein       Cardio   \n",
       "1               26.4                 18.4        Protein        Mixed   \n",
       "2               29.7                 17.3    Pre-workout        Mixed   \n",
       "3               38.3                 21.6          NoUse       Cardio   \n",
       "4               23.1                 22.6          NoUse        Mixed   \n",
       "\n",
       "    diet_type  hydration_level  stress_level  session_duration recovery_rate  \n",
       "0    Omnivore              2.9           2.0              86.0          slow  \n",
       "1    Omnivore              4.0           5.0              43.0          fast  \n",
       "2    Omnivore              2.8           5.0              78.0        medium  \n",
       "3    Omnivore              2.0           3.0              59.0        medium  \n",
       "4  Vegetarian              3.2           9.0              73.0          fast  "
      ]
     },
     "execution_count": 3,
     "metadata": {},
     "output_type": "execute_result"
    }
   ],
   "source": [
    "df.head()"
   ]
  },
  {
   "cell_type": "markdown",
   "metadata": {},
   "source": [
    "# **EDA**"
   ]
  },
  {
   "cell_type": "code",
   "execution_count": 4,
   "metadata": {},
   "outputs": [
    {
     "data": {
      "text/plain": [
       "(30000, 20)"
      ]
     },
     "execution_count": 4,
     "metadata": {},
     "output_type": "execute_result"
    }
   ],
   "source": [
    "df.shape"
   ]
  },
  {
   "cell_type": "code",
   "execution_count": 5,
   "metadata": {},
   "outputs": [
    {
     "data": {
      "text/plain": [
       "id                       int64\n",
       "age                    float64\n",
       "gender                  object\n",
       "height                 float64\n",
       "weight                 float64\n",
       "gym_frequency          float64\n",
       "workout_intensity      float64\n",
       "protein_intake         float64\n",
       "sleep_hours            float64\n",
       "training_experience     object\n",
       "initial_muscle_mass    float64\n",
       "final_muscle_mass      float64\n",
       "body_fat_percentage    float64\n",
       "supplement_use          object\n",
       "workout_type            object\n",
       "diet_type               object\n",
       "hydration_level        float64\n",
       "stress_level           float64\n",
       "session_duration       float64\n",
       "recovery_rate           object\n",
       "dtype: object"
      ]
     },
     "execution_count": 5,
     "metadata": {},
     "output_type": "execute_result"
    }
   ],
   "source": [
    "df.dtypes"
   ]
  },
  {
   "cell_type": "code",
   "execution_count": 6,
   "metadata": {},
   "outputs": [
    {
     "data": {
      "text/html": [
       "<div>\n",
       "<style scoped>\n",
       "    .dataframe tbody tr th:only-of-type {\n",
       "        vertical-align: middle;\n",
       "    }\n",
       "\n",
       "    .dataframe tbody tr th {\n",
       "        vertical-align: top;\n",
       "    }\n",
       "\n",
       "    .dataframe thead th {\n",
       "        text-align: right;\n",
       "    }\n",
       "</style>\n",
       "<table border=\"1\" class=\"dataframe\">\n",
       "  <thead>\n",
       "    <tr style=\"text-align: right;\">\n",
       "      <th></th>\n",
       "      <th>id</th>\n",
       "      <th>age</th>\n",
       "      <th>height</th>\n",
       "      <th>weight</th>\n",
       "      <th>gym_frequency</th>\n",
       "      <th>workout_intensity</th>\n",
       "      <th>protein_intake</th>\n",
       "      <th>sleep_hours</th>\n",
       "      <th>initial_muscle_mass</th>\n",
       "      <th>final_muscle_mass</th>\n",
       "      <th>body_fat_percentage</th>\n",
       "      <th>hydration_level</th>\n",
       "      <th>stress_level</th>\n",
       "      <th>session_duration</th>\n",
       "    </tr>\n",
       "  </thead>\n",
       "  <tbody>\n",
       "    <tr>\n",
       "      <th>count</th>\n",
       "      <td>30000.000000</td>\n",
       "      <td>26853.000000</td>\n",
       "      <td>26739.000000</td>\n",
       "      <td>27265.000000</td>\n",
       "      <td>26492.000000</td>\n",
       "      <td>25810.000000</td>\n",
       "      <td>28118.000000</td>\n",
       "      <td>25851.000000</td>\n",
       "      <td>25727.000000</td>\n",
       "      <td>26122.000000</td>\n",
       "      <td>26608.000000</td>\n",
       "      <td>26366.000000</td>\n",
       "      <td>25739.000000</td>\n",
       "      <td>26931.000000</td>\n",
       "    </tr>\n",
       "    <tr>\n",
       "      <th>mean</th>\n",
       "      <td>15000.500000</td>\n",
       "      <td>41.507169</td>\n",
       "      <td>172.455959</td>\n",
       "      <td>78.056739</td>\n",
       "      <td>3.995923</td>\n",
       "      <td>5.483417</td>\n",
       "      <td>155.026140</td>\n",
       "      <td>7.501257</td>\n",
       "      <td>30.196494</td>\n",
       "      <td>32.811469</td>\n",
       "      <td>20.015958</td>\n",
       "      <td>2.753478</td>\n",
       "      <td>5.512180</td>\n",
       "      <td>61.958784</td>\n",
       "    </tr>\n",
       "    <tr>\n",
       "      <th>std</th>\n",
       "      <td>8660.398374</td>\n",
       "      <td>13.858857</td>\n",
       "      <td>12.652185</td>\n",
       "      <td>20.473267</td>\n",
       "      <td>2.004313</td>\n",
       "      <td>2.875161</td>\n",
       "      <td>39.966278</td>\n",
       "      <td>1.115335</td>\n",
       "      <td>9.273932</td>\n",
       "      <td>9.350308</td>\n",
       "      <td>4.998137</td>\n",
       "      <td>0.724106</td>\n",
       "      <td>2.881913</td>\n",
       "      <td>26.046805</td>\n",
       "    </tr>\n",
       "    <tr>\n",
       "      <th>min</th>\n",
       "      <td>1.000000</td>\n",
       "      <td>18.000000</td>\n",
       "      <td>150.000000</td>\n",
       "      <td>40.600000</td>\n",
       "      <td>1.000000</td>\n",
       "      <td>1.000000</td>\n",
       "      <td>73.000000</td>\n",
       "      <td>6.000000</td>\n",
       "      <td>12.700000</td>\n",
       "      <td>13.800000</td>\n",
       "      <td>10.000000</td>\n",
       "      <td>1.500000</td>\n",
       "      <td>1.000000</td>\n",
       "      <td>30.000000</td>\n",
       "    </tr>\n",
       "    <tr>\n",
       "      <th>25%</th>\n",
       "      <td>7500.750000</td>\n",
       "      <td>30.000000</td>\n",
       "      <td>162.800000</td>\n",
       "      <td>62.900000</td>\n",
       "      <td>2.000000</td>\n",
       "      <td>3.000000</td>\n",
       "      <td>125.000000</td>\n",
       "      <td>7.000000</td>\n",
       "      <td>23.300000</td>\n",
       "      <td>25.800000</td>\n",
       "      <td>16.300000</td>\n",
       "      <td>2.100000</td>\n",
       "      <td>3.000000</td>\n",
       "      <td>45.000000</td>\n",
       "    </tr>\n",
       "    <tr>\n",
       "      <th>50%</th>\n",
       "      <td>15000.500000</td>\n",
       "      <td>41.000000</td>\n",
       "      <td>171.500000</td>\n",
       "      <td>74.900000</td>\n",
       "      <td>4.000000</td>\n",
       "      <td>5.000000</td>\n",
       "      <td>149.000000</td>\n",
       "      <td>8.000000</td>\n",
       "      <td>28.500000</td>\n",
       "      <td>31.100000</td>\n",
       "      <td>20.000000</td>\n",
       "      <td>2.800000</td>\n",
       "      <td>5.000000</td>\n",
       "      <td>60.000000</td>\n",
       "    </tr>\n",
       "    <tr>\n",
       "      <th>75%</th>\n",
       "      <td>22500.250000</td>\n",
       "      <td>54.000000</td>\n",
       "      <td>180.000000</td>\n",
       "      <td>89.700000</td>\n",
       "      <td>6.000000</td>\n",
       "      <td>8.000000</td>\n",
       "      <td>179.000000</td>\n",
       "      <td>8.000000</td>\n",
       "      <td>35.600000</td>\n",
       "      <td>38.300000</td>\n",
       "      <td>23.800000</td>\n",
       "      <td>3.400000</td>\n",
       "      <td>8.000000</td>\n",
       "      <td>76.000000</td>\n",
       "    </tr>\n",
       "    <tr>\n",
       "      <th>max</th>\n",
       "      <td>30000.000000</td>\n",
       "      <td>65.000000</td>\n",
       "      <td>200.000000</td>\n",
       "      <td>230.200000</td>\n",
       "      <td>7.000000</td>\n",
       "      <td>10.000000</td>\n",
       "      <td>305.000000</td>\n",
       "      <td>9.000000</td>\n",
       "      <td>67.700000</td>\n",
       "      <td>71.400000</td>\n",
       "      <td>30.000000</td>\n",
       "      <td>4.000000</td>\n",
       "      <td>10.000000</td>\n",
       "      <td>300.000000</td>\n",
       "    </tr>\n",
       "  </tbody>\n",
       "</table>\n",
       "</div>"
      ],
      "text/plain": [
       "                 id           age        height        weight  gym_frequency  \\\n",
       "count  30000.000000  26853.000000  26739.000000  27265.000000   26492.000000   \n",
       "mean   15000.500000     41.507169    172.455959     78.056739       3.995923   \n",
       "std     8660.398374     13.858857     12.652185     20.473267       2.004313   \n",
       "min        1.000000     18.000000    150.000000     40.600000       1.000000   \n",
       "25%     7500.750000     30.000000    162.800000     62.900000       2.000000   \n",
       "50%    15000.500000     41.000000    171.500000     74.900000       4.000000   \n",
       "75%    22500.250000     54.000000    180.000000     89.700000       6.000000   \n",
       "max    30000.000000     65.000000    200.000000    230.200000       7.000000   \n",
       "\n",
       "       workout_intensity  protein_intake   sleep_hours  initial_muscle_mass  \\\n",
       "count       25810.000000    28118.000000  25851.000000         25727.000000   \n",
       "mean            5.483417      155.026140      7.501257            30.196494   \n",
       "std             2.875161       39.966278      1.115335             9.273932   \n",
       "min             1.000000       73.000000      6.000000            12.700000   \n",
       "25%             3.000000      125.000000      7.000000            23.300000   \n",
       "50%             5.000000      149.000000      8.000000            28.500000   \n",
       "75%             8.000000      179.000000      8.000000            35.600000   \n",
       "max            10.000000      305.000000      9.000000            67.700000   \n",
       "\n",
       "       final_muscle_mass  body_fat_percentage  hydration_level  stress_level  \\\n",
       "count       26122.000000         26608.000000     26366.000000  25739.000000   \n",
       "mean           32.811469            20.015958         2.753478      5.512180   \n",
       "std             9.350308             4.998137         0.724106      2.881913   \n",
       "min            13.800000            10.000000         1.500000      1.000000   \n",
       "25%            25.800000            16.300000         2.100000      3.000000   \n",
       "50%            31.100000            20.000000         2.800000      5.000000   \n",
       "75%            38.300000            23.800000         3.400000      8.000000   \n",
       "max            71.400000            30.000000         4.000000     10.000000   \n",
       "\n",
       "       session_duration  \n",
       "count      26931.000000  \n",
       "mean          61.958784  \n",
       "std           26.046805  \n",
       "min           30.000000  \n",
       "25%           45.000000  \n",
       "50%           60.000000  \n",
       "75%           76.000000  \n",
       "max          300.000000  "
      ]
     },
     "execution_count": 6,
     "metadata": {},
     "output_type": "execute_result"
    }
   ],
   "source": [
    "df.describe()"
   ]
  },
  {
   "cell_type": "code",
   "execution_count": 7,
   "metadata": {},
   "outputs": [
    {
     "name": "stdout",
     "output_type": "stream",
     "text": [
      "<class 'pandas.core.frame.DataFrame'>\n",
      "RangeIndex: 30000 entries, 0 to 29999\n",
      "Data columns (total 20 columns):\n",
      " #   Column               Non-Null Count  Dtype  \n",
      "---  ------               --------------  -----  \n",
      " 0   id                   30000 non-null  int64  \n",
      " 1   age                  26853 non-null  float64\n",
      " 2   gender               27568 non-null  object \n",
      " 3   height               26739 non-null  float64\n",
      " 4   weight               27265 non-null  float64\n",
      " 5   gym_frequency        26492 non-null  float64\n",
      " 6   workout_intensity    25810 non-null  float64\n",
      " 7   protein_intake       28118 non-null  float64\n",
      " 8   sleep_hours          25851 non-null  float64\n",
      " 9   training_experience  27654 non-null  object \n",
      " 10  initial_muscle_mass  25727 non-null  float64\n",
      " 11  final_muscle_mass    26122 non-null  float64\n",
      " 12  body_fat_percentage  26608 non-null  float64\n",
      " 13  supplement_use       30000 non-null  object \n",
      " 14  workout_type         26578 non-null  object \n",
      " 15  diet_type            27534 non-null  object \n",
      " 16  hydration_level      26366 non-null  float64\n",
      " 17  stress_level         25739 non-null  float64\n",
      " 18  session_duration     26931 non-null  float64\n",
      " 19  recovery_rate        26254 non-null  object \n",
      "dtypes: float64(13), int64(1), object(6)\n",
      "memory usage: 4.6+ MB\n"
     ]
    }
   ],
   "source": [
    "df.info()"
   ]
  },
  {
   "cell_type": "code",
   "execution_count": 8,
   "metadata": {},
   "outputs": [
    {
     "data": {
      "text/plain": [
       "id                     30000\n",
       "age                       48\n",
       "gender                     2\n",
       "height                   501\n",
       "weight                  1077\n",
       "gym_frequency              7\n",
       "workout_intensity         10\n",
       "protein_intake           226\n",
       "sleep_hours                4\n",
       "training_experience        3\n",
       "initial_muscle_mass      527\n",
       "final_muscle_mass        540\n",
       "body_fat_percentage      201\n",
       "supplement_use             4\n",
       "workout_type               3\n",
       "diet_type                  4\n",
       "hydration_level           26\n",
       "stress_level              10\n",
       "session_duration         154\n",
       "recovery_rate              3\n",
       "dtype: int64"
      ]
     },
     "execution_count": 8,
     "metadata": {},
     "output_type": "execute_result"
    }
   ],
   "source": [
    "df.nunique()"
   ]
  },
  {
   "cell_type": "code",
   "execution_count": 9,
   "metadata": {},
   "outputs": [
    {
     "data": {
      "text/plain": [
       "gender\n",
       "F    13816\n",
       "M    13752\n",
       "Name: count, dtype: int64"
      ]
     },
     "execution_count": 9,
     "metadata": {},
     "output_type": "execute_result"
    }
   ],
   "source": [
    "df[\"gender\"].value_counts()"
   ]
  },
  {
   "cell_type": "markdown",
   "metadata": {},
   "source": [
    "### **EDA with Visualizations**"
   ]
  },
  {
   "cell_type": "code",
   "execution_count": 11,
   "metadata": {},
   "outputs": [
    {
     "data": {
      "text/plain": [
       "Index(['id', 'age', 'gender', 'height', 'weight', 'gym_frequency',\n",
       "       'workout_intensity', 'protein_intake', 'sleep_hours',\n",
       "       'training_experience', 'initial_muscle_mass', 'final_muscle_mass',\n",
       "       'body_fat_percentage', 'supplement_use', 'workout_type', 'diet_type',\n",
       "       'hydration_level', 'stress_level', 'session_duration', 'recovery_rate'],\n",
       "      dtype='object')"
      ]
     },
     "execution_count": 11,
     "metadata": {},
     "output_type": "execute_result"
    }
   ],
   "source": [
    "df.columns"
   ]
  },
  {
   "cell_type": "code",
   "execution_count": 28,
   "metadata": {},
   "outputs": [
    {
     "data": {
      "image/png": "[encoded data removed]",
      "text/plain": [
       "<Figure size 600x600 with 1 Axes>"
      ]
     },
     "metadata": {},
     "output_type": "display_data"
    }
   ],
   "source": [
    "plt.figure(figsize=(6, 6))\n",
    "sns.scatterplot(df, x=\"workout_intensity\", y=\"session_duration\")\n",
    "plt.xlabel(\"Supplement Use\")\n",
    "plt.ylabel(\"Count\")\n",
    "plt.title(\"Supplement Use with training_experience\")\n",
    "plt.show()"
   ]
  },
  {
   "cell_type": "code",
   "execution_count": 26,
   "metadata": {},
   "outputs": [
    {
     "data": {
      "image/png": "[encoded data removed]",
      "text/plain": [
       "<Figure size 900x500 with 1 Axes>"
      ]
     },
     "metadata": {},
     "output_type": "display_data"
    }
   ],
   "source": [
    "plt.figure(figsize=(9, 5))\n",
    "sns.countplot(df, x=\"supplement_use\", hue=\"training_experience\", palette=\"muted\")\n",
    "plt.xlabel(\"Supplement Use\")\n",
    "plt.ylabel(\"Count\")\n",
    "plt.title(\"Supplement Use with training_experience\")\n",
    "plt.show()"
   ]
  }
 ],
 "metadata": {
  "kernelspec": {
   "display_name": "block_c",
   "language": "python",
   "name": "python3"
  },
  "language_info": {
   "codemirror_mode": {
    "name": "ipython",
    "version": 3
   },
   "file_extension": ".py",
   "mimetype": "text/x-python",
   "name": "python",
   "nbconvert_exporter": "python",
   "pygments_lexer": "ipython3",
   "version": "3.10.16"
  }
 },
 "nbformat": 4,
 "nbformat_minor": 2
}
